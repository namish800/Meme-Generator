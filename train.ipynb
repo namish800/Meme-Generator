{
 "cells": [
  {
   "cell_type": "code",
   "execution_count": 1,
   "metadata": {},
   "outputs": [],
   "source": [
    "    import time\n",
    "    import torch.optim as optim\n",
    "    from torch.utils.data import DataLoader\n",
    "    import torchvision.transforms as transforms\n",
    "    from torch import nn\n",
    "    from torch.nn.utils.rnn import pack_padded_sequence\n",
    "    from models import Encoder, Decoder\n",
    "    from dataset import *\n",
    "    from nltk.translate.bleu_score import corpus_bleu\n",
    "    import pickle\n",
    "    import numpy as np"
   ]
  },
  {
   "cell_type": "code",
   "execution_count": 2,
   "metadata": {},
   "outputs": [],
   "source": [
    "#Parameters\n",
    "emb_dim = 100\n",
    "attention_dim = 1024\n",
    "hidden_dim = 1024\n",
    "dropout = 0.5\n",
    "device = torch.device(\"cuda\" if torch.cuda.is_available() else \"cpu\")"
   ]
  },
  {
   "cell_type": "code",
   "execution_count": 3,
   "metadata": {},
   "outputs": [],
   "source": [
    "decoder_lr = 0.01\n",
    "epochs = 20\n",
    "batch_size = 32\n",
    "print_freq = 10"
   ]
  },
  {
   "cell_type": "code",
   "execution_count": 4,
   "metadata": {},
   "outputs": [],
   "source": [
    "p_in = open('dicts/glove.pickle','rb')\n",
    "glove = pickle.load(p_in)\n",
    "p_in.close()"
   ]
  },
  {
   "cell_type": "code",
   "execution_count": 5,
   "metadata": {},
   "outputs": [],
   "source": [
    "p_in = open('dicts/int_to_vocab.pickle','rb')\n",
    "int_to_vocab = pickle.load(p_in)\n",
    "p_in.close()"
   ]
  },
  {
   "cell_type": "code",
   "execution_count": 6,
   "metadata": {},
   "outputs": [],
   "source": [
    "p_in = open('dicts/vocab_to_int.pickle','rb')\n",
    "vocab_to_int = pickle.load(p_in)\n",
    "p_in.close()"
   ]
  },
  {
   "cell_type": "code",
   "execution_count": 7,
   "metadata": {},
   "outputs": [
    {
     "name": "stdout",
     "output_type": "stream",
     "text": [
      "33159 33159 400000\n"
     ]
    }
   ],
   "source": [
    "print(len(int_to_vocab),len(vocab_to_int),len(glove))"
   ]
  },
  {
   "cell_type": "code",
   "execution_count": 8,
   "metadata": {},
   "outputs": [],
   "source": [
    "weights = torch.zeros(len(int_to_vocab),100)"
   ]
  },
  {
   "cell_type": "code",
   "execution_count": 9,
   "metadata": {},
   "outputs": [],
   "source": [
    "for i in range(len(weights)):\n",
    "    word = int_to_vocab[i]\n",
    "    if word in glove.keys():\n",
    "        weights[i] = torch.from_numpy(glove[word])\n",
    "    else:\n",
    "        weights[i] = torch.from_numpy(np.random.randn(1,100))"
   ]
  },
  {
   "cell_type": "code",
   "execution_count": 10,
   "metadata": {
    "scrolled": true
   },
   "outputs": [],
   "source": [
    "encoder = Encoder()\n",
    "# encoder_optim = optim.Adam(None)\n",
    "\n",
    "decoder = Decoder(attention_dim=attention_dim,num_embedding=len(weights),\n",
    "                  embedding_dim=emb_dim,hidden_dim=hidden_dim,n_layers=2)\n",
    "decoder_optim = optim.Adam(decoder.parameters(),decoder_lr)"
   ]
  },
  {
   "cell_type": "code",
   "execution_count": 11,
   "metadata": {},
   "outputs": [],
   "source": [
    "encoder = encoder.to(device)\n",
    "decoder = decoder.to(device)"
   ]
  },
  {
   "cell_type": "code",
   "execution_count": 12,
   "metadata": {},
   "outputs": [],
   "source": [
    "criterion = nn.CrossEntropyLoss().to(device)"
   ]
  },
  {
   "cell_type": "code",
   "execution_count": 13,
   "metadata": {},
   "outputs": [],
   "source": [
    "# df = pd.read_csv('Encoded_captions.csv')\n",
    "# shuffle_df = df.sample(frac=1)\n",
    "# len(shuffle_df)\n",
    "# train_df = pd.read_csv('train.csv')\n",
    "# test_df = pd.read_csv('test.csv')\n",
    "# len(train_df)+len(test_df)"
   ]
  },
  {
   "cell_type": "code",
   "execution_count": 14,
   "metadata": {},
   "outputs": [],
   "source": [
    "# from sklearn.model_selection import train_test_split \n",
    "# train_df,test_df = train_test_split(shuffle_df,test_size = 0.3, shuffle=True)\n",
    "# print(\"train_df {}\".format(train_df['img_id'].describe()['unique']))\n",
    "# print(\"Test_df {}\".format(test_df['img_id'].describe()['unique']))"
   ]
  },
  {
   "cell_type": "code",
   "execution_count": 15,
   "metadata": {},
   "outputs": [],
   "source": [
    "# train_df.to_csv('train.csv')\n",
    "# test_df.to_csv('test.csv')"
   ]
  },
  {
   "cell_type": "code",
   "execution_count": 16,
   "metadata": {},
   "outputs": [],
   "source": [
    "# df['enc_captions'][0]"
   ]
  },
  {
   "cell_type": "code",
   "execution_count": 17,
   "metadata": {},
   "outputs": [],
   "source": [
    "import torchvision.transforms as transforms\n",
    "transform = transforms.Compose([\n",
    "#     transforms.RandomHorizontalFlip(), # randomly flip and rotate\n",
    "#     transforms.RandomRotation(10),\n",
    "    transforms.Resize((300,300)),\n",
    "    transforms.ToTensor(),\n",
    "    transforms.Normalize((0.485, 0.456, 0.406), (0.229, 0.224, 0.225))\n",
    "    ])\n"
   ]
  },
  {
   "cell_type": "code",
   "execution_count": 18,
   "metadata": {},
   "outputs": [],
   "source": [
    "train_data = MemeDataset(img_paths='data/train_imgpaths.npy',caplens='data/train_caplens.npy',\n",
    "                         enc_caps='data/train_enc_captions.npy',transform=transform)\n",
    "train_loader = DataLoader(train_data,shuffle=True, batch_size=32)"
   ]
  },
  {
   "cell_type": "code",
   "execution_count": 19,
   "metadata": {},
   "outputs": [],
   "source": [
    "test_data = MemeDataset(img_paths='data/test_imgpaths.npy',caplens='data/test_caplens.npy',\n",
    "                         enc_caps='data/test_enc_captions.npy',transform=transform)\n",
    "test_loader = DataLoader(train_data,shuffle=True, batch_size=32)"
   ]
  },
  {
   "cell_type": "code",
   "execution_count": 22,
   "metadata": {},
   "outputs": [],
   "source": [
    "decoder.load_glove(weights,True)"
   ]
  },
  {
   "cell_type": "code",
   "execution_count": null,
   "metadata": {},
   "outputs": [],
   "source": [
    "train_accuracies=[]\n",
    "train_losses=[]\n",
    "val_accuracies=[]\n",
    "val_losses=[]\n",
    "for e in range(epochs):\n",
    "    decoder.train()\n",
    "    for i,(img,cap,l) in enumerate(train_loader):\n",
    "        \n",
    "        imgs = img.to(device)\n",
    "        caps = cap.to(device)\n",
    "        l = l.to(device)\n",
    "        \n",
    "        enc_imgs = encoder(imgs)\n",
    "        preds,alphas,enc_cap,dec_l,ind = decoder(enc_imgs,\n",
    "                                               caps,l)\n",
    "        \n",
    "        targets = enc_cap[:,1:]\n",
    "        \n",
    "        preds,_ = pack_padded_sequence(preds, dec_l, batch_first=True)\n",
    "        targets,_ = pack_padded_sequence(targets, dec_l)\n",
    "        \n",
    "        loss = criterion(scores, targets)\n",
    "        \n",
    "        decoder_optim.zero_grad()\n",
    "        loss.backward()\n",
    "        \n",
    "        decoder_optim.step()\n",
    "        \n",
    "        _, ind = preds.topk(5,1,True,True)\n",
    "        equals = ind.eq(preds.view(-1,1).expand_as(ind))\n",
    "        accuracy = equals.view(-1).float().sum() / targets.size(0)\n",
    "        \n",
    "        train_accuracies.append(accuracy/sum(dec_l))\n",
    "        train_losses.append(loss.item/sum(dec_l))\n",
    "        \n",
    "        \n",
    "        \n",
    "        if i % print_freq == 0:\n",
    "            decoder.eval()\n",
    "            for i,(imgs,caps,l) in enumerate(test_loader):\n",
    "                imgs = imgs.to(device)\n",
    "                caps = caps.to(device)\n",
    "                caplens = caplens.to(device)\n",
    "                \n",
    "                enc_imgs = encoder(imgs)\n",
    "                preds,alphas,enc_cap,dec_l,ind = decoder(enc_imgs,caps,l)\n",
    "                \n",
    "                targets = enc_cap[:,1:]\n",
    "                preds,_ = pack_padded_sequence(preds,dec_l,batch_first=True)\n",
    "                targets,_ = pack_padded_sequence(targets,dec_l,batch_first=True)\n",
    "                \n",
    "                loss = criterion(preds,targets)\n",
    "                \n",
    "                _, ind = preds.topk(5,1,True,True)\n",
    "                equals = ind.eq(preds.view(-1,1).expand_as(ind))\n",
    "                val_accuracy = equals.view(-1).float().sum() / targets.size(0)\n",
    "                \n",
    "                val_accuracies.append(val_accuracy/sum(dec_l))\n",
    "                val_losses.append(loss.item()/sum(dec_l))\n",
    "                \n",
    "                \n",
    "            \n",
    "            print(f'Epoch: {e}/{epochs}',\n",
    "                 f'training loss: {train_losses[-1]:.4f}',\n",
    "                 f'training accuracy: {train_accuracies[-1]:.4f}',\n",
    "                 f'validation loss: {val_losses[-1]:.4f}',\n",
    "                 f'validation accuracy: {val_accuracies[-1]:.4f}')\n",
    "            \n",
    "        "
   ]
  },
  {
   "cell_type": "code",
   "execution_count": null,
   "metadata": {},
   "outputs": [],
   "source": []
  }
 ],
 "metadata": {
  "kernelspec": {
   "display_name": "Python (myenv)",
   "language": "python",
   "name": "pytorch"
  },
  "language_info": {
   "codemirror_mode": {
    "name": "ipython",
    "version": 3
   },
   "file_extension": ".py",
   "mimetype": "text/x-python",
   "name": "python",
   "nbconvert_exporter": "python",
   "pygments_lexer": "ipython3",
   "version": "3.6.6"
  }
 },
 "nbformat": 4,
 "nbformat_minor": 2
}
